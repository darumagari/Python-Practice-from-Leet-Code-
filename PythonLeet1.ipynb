{
 "cells": [
  {
   "cell_type": "markdown",
   "metadata": {},
   "source": [
    "# 1365. How Many Numbers Are Smaller Than the Current Number"
   ]
  },
  {
   "cell_type": "markdown",
   "metadata": {},
   "source": [
    "Given the array nums, for each nums[i] find out how many numbers in the array are smaller than it. That is, for each nums[i] you have to count the number of valid j's such that j != i and nums[j] < nums[i].\n",
    "\n",
    "Return the answer in an array."
   ]
  },
  {
   "cell_type": "markdown",
   "metadata": {},
   "source": [
    "Example:\n",
    "\n",
    "Input: nums = [8,1,2,2,3]<br>\n",
    "Output: [4,0,1,1,3]<br>\n",
    "Explanation:<br>\n",
    "For nums[0]=8 there exist four smaller numbers than it (1, 2, 2 and 3). <br>\n",
    "For nums[1]=1 does not exist any smaller number than it.<br>\n",
    "For nums[2]=2 there exist one smaller number than it (1). <br>\n",
    "For nums[3]=2 there exist one smaller number than it (1). <br>\n",
    "For nums[4]=3 there exist three smaller numbers than it (1, 2 and 2).<br>"
   ]
  },
  {
   "cell_type": "code",
   "execution_count": 1,
   "metadata": {},
   "outputs": [],
   "source": [
    "def CountOfSmallerNumbersThanCurrent(nums):\n",
    "    ans = []\n",
    "    for x in range(len(nums)):\n",
    "        num = 0\n",
    "        for y in nums:\n",
    "            if y < nums[x]:\n",
    "                num+=1\n",
    "        ans.append(num)\n",
    "    return ans"
   ]
  },
  {
   "cell_type": "code",
   "execution_count": 2,
   "metadata": {},
   "outputs": [
    {
     "data": {
      "text/plain": [
       "[3, 0, 1, 2]"
      ]
     },
     "execution_count": 2,
     "metadata": {},
     "output_type": "execute_result"
    }
   ],
   "source": [
    "CountOfSmallerNumbersThanCurrent([8,1,2,3])"
   ]
  },
  {
   "cell_type": "code",
   "execution_count": 3,
   "metadata": {},
   "outputs": [
    {
     "data": {
      "text/plain": [
       "[2, 4, 3, 0, 1, 5]"
      ]
     },
     "execution_count": 3,
     "metadata": {},
     "output_type": "execute_result"
    }
   ],
   "source": [
    "CountOfSmallerNumbersThanCurrent([19,33,24,5,9,90])"
   ]
  },
  {
   "cell_type": "code",
   "execution_count": null,
   "metadata": {},
   "outputs": [],
   "source": []
  }
 ],
 "metadata": {
  "kernelspec": {
   "display_name": "Python 3",
   "language": "python",
   "name": "python3"
  },
  "language_info": {
   "codemirror_mode": {
    "name": "ipython",
    "version": 3
   },
   "file_extension": ".py",
   "mimetype": "text/x-python",
   "name": "python",
   "nbconvert_exporter": "python",
   "pygments_lexer": "ipython3",
   "version": "3.7.1"
  }
 },
 "nbformat": 4,
 "nbformat_minor": 2
}
