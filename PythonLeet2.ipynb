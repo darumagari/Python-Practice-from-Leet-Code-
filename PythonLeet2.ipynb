{
 "cells": [
  {
   "cell_type": "markdown",
   "metadata": {},
   "source": [
    "# 1281. Subtract the Product and Sum of Digits of an Integer"
   ]
  },
  {
   "cell_type": "markdown",
   "metadata": {},
   "source": [
    "Given an integer number n, return the difference between the product of its digits and the sum of its digits.\n",
    "\n",
    "Example 1:\n",
    "\n",
    "Input: n = 234<br>\n",
    "Output: 15 <br>\n",
    "Explanation: <br>\n",
    "Product of digits = 2 * 3 * 4 = 24 <br>\n",
    "Sum of digits = 2 + 3 + 4 = 9 <br>\n",
    "Result = 24 - 9 = 15"
   ]
  },
  {
   "cell_type": "code",
   "execution_count": 2,
   "metadata": {},
   "outputs": [],
   "source": [
    "def subtractProductAndSum(n):\n",
    "        sum = 0\n",
    "        pro=1\n",
    "        while (n != 0):\n",
    "           sum = sum + int(n % 10)\n",
    "           pro = pro * int(n % 10)\n",
    "           n = int(n / 10)\n",
    "\n",
    "        return pro-sum"
   ]
  },
  {
   "cell_type": "code",
   "execution_count": 4,
   "metadata": {},
   "outputs": [
    {
     "data": {
      "text/plain": [
       "15"
      ]
     },
     "execution_count": 4,
     "metadata": {},
     "output_type": "execute_result"
    }
   ],
   "source": [
    "subtractProductAndSum(234)"
   ]
  },
  {
   "cell_type": "code",
   "execution_count": 5,
   "metadata": {},
   "outputs": [
    {
     "data": {
      "text/plain": [
       "844"
      ]
     },
     "execution_count": 5,
     "metadata": {},
     "output_type": "execute_result"
    }
   ],
   "source": [
    "subtractProductAndSum(1334234)"
   ]
  },
  {
   "cell_type": "code",
   "execution_count": 14,
   "metadata": {},
   "outputs": [
    {
     "data": {
      "text/plain": [
       "34525"
      ]
     },
     "execution_count": 14,
     "metadata": {},
     "output_type": "execute_result"
    }
   ],
   "source": [
    "subtractProductAndSum(648665)"
   ]
  }
 ],
 "metadata": {
  "kernelspec": {
   "display_name": "Python 3",
   "language": "python",
   "name": "python3"
  },
  "language_info": {
   "codemirror_mode": {
    "name": "ipython",
    "version": 3
   },
   "file_extension": ".py",
   "mimetype": "text/x-python",
   "name": "python",
   "nbconvert_exporter": "python",
   "pygments_lexer": "ipython3",
   "version": "3.7.1"
  }
 },
 "nbformat": 4,
 "nbformat_minor": 2
}
